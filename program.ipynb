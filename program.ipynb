{
 "cells": [
  {
   "cell_type": "code",
   "execution_count": 1,
   "metadata": {},
   "outputs": [],
   "source": [
    "import numpy as np\n",
    "import pandas as pd\n",
    "import matplotlib.pyplot as plt\n",
    "from keras.models import Sequential\n",
    "from keras.layers import GRU, Dense\n",
    "from sklearn.preprocessing import MinMaxScaler, LabelEncoder"
   ]
  },
  {
   "cell_type": "code",
   "execution_count": 5,
   "metadata": {},
   "outputs": [],
   "source": [
    "# Load the data into a Pandas dataframe\n",
    "data = pd.read_csv('logon.csv')\n",
    "\n",
    "# Convert the dataframe to a NumPy array\n",
    "\n",
    "# Convert the date column to a pandas datetime object\n",
    "# data['date'] = pd.to_datetime(data['date'], format='%m/%d/%Y %H:%M:%S')\n",
    "data['date'] = pd.to_datetime(data['date'], format='%m/%d/%Y %H:%M:%S')\n",
    "data['date'] = data['date'].apply(lambda x: x.timestamp())\n",
    "# Encode the 'user' column as a categorical variable using one-hot encoding\n",
    "le = LabelEncoder()\n",
    "data['user'] = le.fit_transform(data['user'])\n",
    "data['pc'] = le.fit_transform(data['pc'])\n",
    "data['activity'] = le.fit_transform(data['activity'])\n",
    "# Scale the data to the range of 0 to 1\n",
    "dataset = data[['date', 'user', 'pc', 'activity']].to_numpy()\n",
    "scaler = MinMaxScaler(feature_range=(0, 1))\n",
    "dataset = scaler.fit_transform(dataset)\n",
    "\n",
    "# Split the data into training and testing sets\n",
    "train_size = int(len(dataset) * 0.67)\n",
    "test_size = len(dataset) - train_size\n",
    "train_data = dataset[0:train_size,:]\n",
    "test_data = dataset[train_size:len(dataset),:]"
   ]
  },
  {
   "cell_type": "code",
   "execution_count": 6,
   "metadata": {},
   "outputs": [],
   "source": [
    "def create_dataset(dataset, look_back=1):\n",
    "    data_X, data_Y = [], []\n",
    "    for i in range(len(dataset)-look_back-1):\n",
    "        a = dataset[i:(i+look_back), 0]\n",
    "        data_X.append(a)\n",
    "        data_Y.append(dataset[i + look_back, 0])\n",
    "    return np.array(data_X), np.array(data_Y)"
   ]
  },
  {
   "cell_type": "code",
   "execution_count": 7,
   "metadata": {},
   "outputs": [],
   "source": [
    "look_back = 10\n",
    "train_X, train_Y = create_dataset(train_data, look_back)\n",
    "test_X, test_Y = create_dataset(test_data, look_back)\n",
    "\n",
    "# Reshape the input data to be 3-dimensional [samples, time steps, features]\n",
    "train_X = np.reshape(train_X, (train_X.shape[0], train_X.shape[1], 1))\n",
    "test_X = np.reshape(test_X, (test_X.shape[0], test_X.shape[1], 1))"
   ]
  },
  {
   "cell_type": "code",
   "execution_count": 4,
   "metadata": {},
   "outputs": [],
   "source": [
    "# Define the GRU network\n",
    "model = Sequential()\n",
    "model.add(GRU(50, input_shape=(look_back, 1)))\n",
    "model.add(Dense(1))\n",
    "model.compile(loss='mean_squared_error', optimizer='adam')\n",
    "\n",
    "# Train the model\n",
    "# model.fit(train_X, train_Y, epochs=100, batch_size=1, verbose=2)"
   ]
  },
  {
   "cell_type": "code",
   "execution_count": 8,
   "metadata": {},
   "outputs": [
    {
     "name": "stdout",
     "output_type": "stream",
     "text": [
      "Epoch 1/100\n"
     ]
    }
   ],
   "source": [
    "# Train the model\n",
    "model.fit(train_X, train_Y, epochs=100, batch_size=1, verbose=2)"
   ]
  },
  {
   "cell_type": "code",
   "execution_count": null,
   "metadata": {},
   "outputs": [],
   "source": [
    "# Make predictions on the test data\n",
    "test_predictions = model.predict(test_X)\n",
    "\n",
    "# Rescale the data back to the original range\n",
    "test_predictions = scaler.inverse_transform(test_predictions)\n",
    "test_Y = scaler.inverse_transform([test_Y])\n",
    "\n",
    "# Plot the predicted and actual values\n",
    "plt.plot(test_Y[0])\n",
    "plt.plot(test_predictions[:,0])\n",
    "plt.show()"
   ]
  }
 ],
 "metadata": {
  "kernelspec": {
   "display_name": "base",
   "language": "python",
   "name": "python3"
  },
  "language_info": {
   "codemirror_mode": {
    "name": "ipython",
    "version": 3
   },
   "file_extension": ".py",
   "mimetype": "text/x-python",
   "name": "python",
   "nbconvert_exporter": "python",
   "pygments_lexer": "ipython3",
   "version": "3.9.13"
  },
  "orig_nbformat": 4
 },
 "nbformat": 4,
 "nbformat_minor": 2
}
